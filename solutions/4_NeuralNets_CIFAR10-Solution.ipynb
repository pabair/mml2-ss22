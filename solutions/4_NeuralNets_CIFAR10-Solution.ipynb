{
 "cells": [
  {
   "cell_type": "code",
   "execution_count": 1,
   "metadata": {},
   "outputs": [
    {
     "data": {
      "text/plain": [
       "<torch._C.Generator at 0x7fd1e5953730>"
      ]
     },
     "execution_count": 1,
     "metadata": {},
     "output_type": "execute_result"
    }
   ],
   "source": [
    "import torch\n",
    "torch.manual_seed(0)"
   ]
  },
  {
   "cell_type": "code",
   "execution_count": 2,
   "metadata": {},
   "outputs": [],
   "source": [
    "device = \"cuda\" if torch.cuda.is_available() else \"cpu\""
   ]
  },
  {
   "cell_type": "code",
   "execution_count": 3,
   "metadata": {},
   "outputs": [
    {
     "name": "stdout",
     "output_type": "stream",
     "text": [
      "Files already downloaded and verified\n",
      "Files already downloaded and verified\n"
     ]
    }
   ],
   "source": [
    "from torchvision import datasets, transforms\n",
    "\n",
    "data_path = './data/cifar10'\n",
    "transform = transforms.ToTensor()\n",
    "\n",
    "cifar10_train = datasets.CIFAR10(data_path, train=True, download=True, transform=transform)\n",
    "cifar10_test = datasets.CIFAR10(data_path, train=False, download=True, transform=transform)"
   ]
  },
  {
   "cell_type": "code",
   "execution_count": 4,
   "metadata": {},
   "outputs": [
    {
     "name": "stdout",
     "output_type": "stream",
     "text": [
      "Training:  50000\n",
      "Testing:  10000\n"
     ]
    }
   ],
   "source": [
    "print(\"Training: \", len(cifar10_train))\n",
    "print(\"Testing: \", len(cifar10_test))"
   ]
  },
  {
   "cell_type": "code",
   "execution_count": 5,
   "metadata": {},
   "outputs": [
    {
     "name": "stdout",
     "output_type": "stream",
     "text": [
      "tensor([[[0.2314, 0.1686, 0.1961,  ..., 0.6196, 0.5961, 0.5804],\n",
      "         [0.0627, 0.0000, 0.0706,  ..., 0.4824, 0.4667, 0.4784],\n",
      "         [0.0980, 0.0627, 0.1922,  ..., 0.4627, 0.4706, 0.4275],\n",
      "         ...,\n",
      "         [0.8157, 0.7882, 0.7765,  ..., 0.6275, 0.2196, 0.2078],\n",
      "         [0.7059, 0.6784, 0.7294,  ..., 0.7216, 0.3804, 0.3255],\n",
      "         [0.6941, 0.6588, 0.7020,  ..., 0.8471, 0.5922, 0.4824]],\n",
      "\n",
      "        [[0.2431, 0.1804, 0.1882,  ..., 0.5176, 0.4902, 0.4863],\n",
      "         [0.0784, 0.0000, 0.0314,  ..., 0.3451, 0.3255, 0.3412],\n",
      "         [0.0941, 0.0275, 0.1059,  ..., 0.3294, 0.3294, 0.2863],\n",
      "         ...,\n",
      "         [0.6667, 0.6000, 0.6314,  ..., 0.5216, 0.1216, 0.1333],\n",
      "         [0.5451, 0.4824, 0.5647,  ..., 0.5804, 0.2431, 0.2078],\n",
      "         [0.5647, 0.5059, 0.5569,  ..., 0.7216, 0.4627, 0.3608]],\n",
      "\n",
      "        [[0.2471, 0.1765, 0.1686,  ..., 0.4235, 0.4000, 0.4039],\n",
      "         [0.0784, 0.0000, 0.0000,  ..., 0.2157, 0.1961, 0.2235],\n",
      "         [0.0824, 0.0000, 0.0314,  ..., 0.1961, 0.1961, 0.1647],\n",
      "         ...,\n",
      "         [0.3765, 0.1333, 0.1020,  ..., 0.2745, 0.0275, 0.0784],\n",
      "         [0.3765, 0.1647, 0.1176,  ..., 0.3686, 0.1333, 0.1333],\n",
      "         [0.4549, 0.3686, 0.3412,  ..., 0.5490, 0.3294, 0.2824]]])\n",
      "torch.Size([3, 32, 32])\n",
      "6\n"
     ]
    }
   ],
   "source": [
    "image, label = cifar10_train[0]\n",
    "print(image)\n",
    "print(image.shape)\n",
    "print(label)"
   ]
  },
  {
   "cell_type": "code",
   "execution_count": 6,
   "metadata": {},
   "outputs": [
    {
     "data": {
      "text/plain": [
       "['airplane',\n",
       " 'automobile',\n",
       " 'bird',\n",
       " 'cat',\n",
       " 'deer',\n",
       " 'dog',\n",
       " 'frog',\n",
       " 'horse',\n",
       " 'ship',\n",
       " 'truck']"
      ]
     },
     "execution_count": 6,
     "metadata": {},
     "output_type": "execute_result"
    }
   ],
   "source": [
    "cifar10_train.classes"
   ]
  },
  {
   "cell_type": "code",
   "execution_count": 7,
   "metadata": {},
   "outputs": [
    {
     "data": {
      "text/plain": [
       "<matplotlib.image.AxesImage at 0x7fd1ce846190>"
      ]
     },
     "execution_count": 7,
     "metadata": {},
     "output_type": "execute_result"
    },
    {
     "data": {
      "image/png": "[encoded data removed]",
      "text/plain": [
       "<Figure size 432x288 with 1 Axes>"
      ]
     },
     "metadata": {
      "needs_background": "light"
     },
     "output_type": "display_data"
    }
   ],
   "source": [
    "import matplotlib.pyplot as plt\n",
    "\n",
    "plt.imshow(image.permute(1, 2, 0))"
   ]
  },
  {
   "cell_type": "code",
   "execution_count": 8,
   "metadata": {},
   "outputs": [],
   "source": [
    "from torch.utils.data import DataLoader\n",
    "\n",
    "train_loader = DataLoader(cifar10_train, batch_size=100, shuffle=True)\n",
    "test_loader = DataLoader(cifar10_test, batch_size=500, shuffle=False)"
   ]
  },
  {
   "cell_type": "code",
   "execution_count": 9,
   "metadata": {},
   "outputs": [
    {
     "name": "stdout",
     "output_type": "stream",
     "text": [
      "torch.Size([100, 3, 32, 32])\n",
      "torch.Size([100])\n"
     ]
    }
   ],
   "source": [
    "for (X_train, y_train) in train_loader:\n",
    "    print(X_train.shape)\n",
    "    print(y_train.shape)\n",
    "    break"
   ]
  },
  {
   "cell_type": "markdown",
   "metadata": {},
   "source": [
    "## Tasks\n",
    "### Task 1:\n",
    "Implement a neural network with one hidden layer. The hidden layer has 10 neurons and uses Relu as activation function. There is no activation on the output layer."
   ]
  },
  {
   "cell_type": "code",
   "execution_count": 10,
   "metadata": {},
   "outputs": [],
   "source": [
    "import torch.nn as nn\n",
    "import torch.nn.functional as F \n",
    "\n",
    "class NeuralNet(nn.Module):\n",
    "\n",
    "    def __init__(self):\n",
    "        super().__init__()\n",
    "        self.hidden = nn.Linear(3072, 10)\n",
    "        self.output = nn.Linear(10, 10)\n",
    "\n",
    "    def forward(self, X):\n",
    "        X = F.relu(self.hidden(X))\n",
    "        X = self.output(X)\n",
    "\n",
    "        return X"
   ]
  },
  {
   "cell_type": "markdown",
   "metadata": {},
   "source": [
    "### Task 2:\n",
    "\n",
    "Train the network:\n",
    "   - Use `CrossEntropyLoss` and a learning rate of `0.01` for 20 epochs.\n",
    "   - Perform mini-batch gradient descent: In every epoch iterate through the `train_loader` like shown in the cell above and update the weights only on the data points that are in the current mini-batch.\n",
    "   - After every 100 mini-batches, print out the current loss.\n",
    "   - Note: You have to flatten the input dimension of an image from 3x32x32 to one dimension, since a neural network expects a linear input. Check out `torch.flatten(...)` for that.\n",
    "   - Print the loss plot."
   ]
  },
  {
   "cell_type": "code",
   "execution_count": 11,
   "metadata": {},
   "outputs": [
    {
     "name": "stdout",
     "output_type": "stream",
     "text": [
      "epoch: 0 batch 100 loss: 2.189243793487549\n",
      "epoch: 0 batch 200 loss: 2.105489730834961\n",
      "epoch: 0 batch 300 loss: 2.098823070526123\n",
      "epoch: 0 batch 400 loss: 2.0174190998077393\n",
      "epoch: 0 batch 500 loss: 1.8382809162139893\n",
      "epoch: 1 batch 100 loss: 1.9104341268539429\n",
      "epoch: 1 batch 200 loss: 1.9592945575714111\n",
      "epoch: 1 batch 300 loss: 1.9865107536315918\n",
      "epoch: 1 batch 400 loss: 1.9453526735305786\n",
      "epoch: 1 batch 500 loss: 1.8667540550231934\n",
      "epoch: 2 batch 100 loss: 1.8408470153808594\n",
      "epoch: 2 batch 200 loss: 1.8319135904312134\n",
      "epoch: 2 batch 300 loss: 1.840193271636963\n",
      "epoch: 2 batch 400 loss: 1.9624981880187988\n",
      "epoch: 2 batch 500 loss: 2.011812686920166\n",
      "epoch: 3 batch 100 loss: 1.8774505853652954\n",
      "epoch: 3 batch 200 loss: 1.9102809429168701\n",
      "epoch: 3 batch 300 loss: 1.9361375570297241\n",
      "epoch: 3 batch 400 loss: 1.9021567106246948\n",
      "epoch: 3 batch 500 loss: 1.7873059511184692\n",
      "epoch: 4 batch 100 loss: 1.6805535554885864\n",
      "epoch: 4 batch 200 loss: 1.782638669013977\n",
      "epoch: 4 batch 300 loss: 1.9057116508483887\n",
      "epoch: 4 batch 400 loss: 1.7732127904891968\n",
      "epoch: 4 batch 500 loss: 1.7168934345245361\n",
      "epoch: 5 batch 100 loss: 1.80173659324646\n",
      "epoch: 5 batch 200 loss: 1.7311631441116333\n",
      "epoch: 5 batch 300 loss: 1.9568841457366943\n",
      "epoch: 5 batch 400 loss: 1.7202928066253662\n",
      "epoch: 5 batch 500 loss: 1.7542709112167358\n",
      "epoch: 6 batch 100 loss: 1.6620582342147827\n",
      "epoch: 6 batch 200 loss: 1.8346164226531982\n",
      "epoch: 6 batch 300 loss: 1.7382839918136597\n",
      "epoch: 6 batch 400 loss: 1.772321343421936\n",
      "epoch: 6 batch 500 loss: 1.6688275337219238\n",
      "epoch: 7 batch 100 loss: 1.762446641921997\n",
      "epoch: 7 batch 200 loss: 1.7200394868850708\n",
      "epoch: 7 batch 300 loss: 1.6612521409988403\n",
      "epoch: 7 batch 400 loss: 1.7761597633361816\n",
      "epoch: 7 batch 500 loss: 1.7341810464859009\n",
      "epoch: 8 batch 100 loss: 1.6032283306121826\n",
      "epoch: 8 batch 200 loss: 1.7973284721374512\n",
      "epoch: 8 batch 300 loss: 1.6396050453186035\n",
      "epoch: 8 batch 400 loss: 1.651464819908142\n",
      "epoch: 8 batch 500 loss: 1.716825246810913\n",
      "epoch: 9 batch 100 loss: 1.7374083995819092\n",
      "epoch: 9 batch 200 loss: 1.6557044982910156\n",
      "epoch: 9 batch 300 loss: 1.6360472440719604\n",
      "epoch: 9 batch 400 loss: 1.6286284923553467\n",
      "epoch: 9 batch 500 loss: 1.7532436847686768\n",
      "epoch: 10 batch 100 loss: 1.6790684461593628\n",
      "epoch: 10 batch 200 loss: 1.7089643478393555\n",
      "epoch: 10 batch 300 loss: 1.6202276945114136\n",
      "epoch: 10 batch 400 loss: 1.775173544883728\n",
      "epoch: 10 batch 500 loss: 1.6914607286453247\n",
      "epoch: 11 batch 100 loss: 1.596879005432129\n",
      "epoch: 11 batch 200 loss: 1.6028038263320923\n",
      "epoch: 11 batch 300 loss: 1.6536632776260376\n",
      "epoch: 11 batch 400 loss: 1.670111060142517\n",
      "epoch: 11 batch 500 loss: 1.6371945142745972\n",
      "epoch: 12 batch 100 loss: 1.7197151184082031\n",
      "epoch: 12 batch 200 loss: 1.5716084241867065\n",
      "epoch: 12 batch 300 loss: 2.013590097427368\n",
      "epoch: 12 batch 400 loss: 1.6285320520401\n",
      "epoch: 12 batch 500 loss: 1.7917371988296509\n",
      "epoch: 13 batch 100 loss: 1.6335567235946655\n",
      "epoch: 13 batch 200 loss: 1.6857621669769287\n",
      "epoch: 13 batch 300 loss: 1.6613261699676514\n",
      "epoch: 13 batch 400 loss: 1.6060576438903809\n",
      "epoch: 13 batch 500 loss: 1.560827374458313\n",
      "epoch: 14 batch 100 loss: 1.5977439880371094\n",
      "epoch: 14 batch 200 loss: 1.6430124044418335\n",
      "epoch: 14 batch 300 loss: 1.7325634956359863\n",
      "epoch: 14 batch 400 loss: 1.8123292922973633\n",
      "epoch: 14 batch 500 loss: 1.7001713514328003\n",
      "epoch: 15 batch 100 loss: 1.5933935642242432\n",
      "epoch: 15 batch 200 loss: 1.6224812269210815\n",
      "epoch: 15 batch 300 loss: 1.6434369087219238\n",
      "epoch: 15 batch 400 loss: 1.6879467964172363\n",
      "epoch: 15 batch 500 loss: 1.6174557209014893\n",
      "epoch: 16 batch 100 loss: 1.6920578479766846\n",
      "epoch: 16 batch 200 loss: 1.6486117839813232\n",
      "epoch: 16 batch 300 loss: 1.5905338525772095\n",
      "epoch: 16 batch 400 loss: 1.732358455657959\n",
      "epoch: 16 batch 500 loss: 1.595443606376648\n",
      "epoch: 17 batch 100 loss: 1.781273603439331\n",
      "epoch: 17 batch 200 loss: 1.5779467821121216\n",
      "epoch: 17 batch 300 loss: 1.5341449975967407\n",
      "epoch: 17 batch 400 loss: 1.8790955543518066\n",
      "epoch: 17 batch 500 loss: 1.711564540863037\n",
      "epoch: 18 batch 100 loss: 1.5436075925827026\n",
      "epoch: 18 batch 200 loss: 1.6547600030899048\n",
      "epoch: 18 batch 300 loss: 1.9506866931915283\n",
      "epoch: 18 batch 400 loss: 1.5094168186187744\n",
      "epoch: 18 batch 500 loss: 1.6657280921936035\n",
      "epoch: 19 batch 100 loss: 1.428993582725525\n",
      "epoch: 19 batch 200 loss: 1.6035536527633667\n",
      "epoch: 19 batch 300 loss: 1.6827300786972046\n",
      "epoch: 19 batch 400 loss: 1.5175727605819702\n",
      "epoch: 19 batch 500 loss: 1.632056713104248\n"
     ]
    }
   ],
   "source": [
    "model = NeuralNet()\n",
    "model.to(device)\n",
    "model.train()\n",
    "criterion = nn.CrossEntropyLoss()\n",
    "optimizer = torch.optim.SGD(model.parameters(), lr=0.01)\n",
    "\n",
    "epochs = 20\n",
    "\n",
    "train_losses = []\n",
    "for i in range(epochs):\n",
    "\n",
    "    batch_iteration = 1\n",
    "    for (X_train, y_train) in train_loader:\n",
    "        X_train = X_train.to(device) #needed when using gpu\n",
    "        y_train = y_train.to(device) #needed when using gpu\n",
    "        \n",
    "        X = torch.flatten(X_train, start_dim=1)\n",
    "        y_pred = model(X)\n",
    "        loss = criterion(y_pred, y_train)\n",
    "\n",
    "        optimizer.zero_grad()\n",
    "        loss.backward()\n",
    "        optimizer.step()\n",
    "        \n",
    "        if batch_iteration % 100 == 0:\n",
    "            print( f'epoch: {i} batch {batch_iteration} loss: {loss.item()}')\n",
    "        \n",
    "        batch_iteration +=1\n",
    "            \n",
    "    train_losses.append(loss.item())"
   ]
  },
  {
   "cell_type": "code",
   "execution_count": 12,
   "metadata": {},
   "outputs": [
    {
     "data": {
      "text/plain": [
       "<matplotlib.legend.Legend at 0x7fd1cea52730>"
      ]
     },
     "execution_count": 12,
     "metadata": {},
     "output_type": "execute_result"
    },
    {
     "data": {
      "image/png": "[encoded data removed]",
      "text/plain": [
       "<Figure size 432x288 with 1 Axes>"
      ]
     },
     "metadata": {
      "needs_background": "light"
     },
     "output_type": "display_data"
    }
   ],
   "source": [
    "plt.plot(train_losses, label= \"Training loss\")\n",
    "plt.legend()"
   ]
  },
  {
   "cell_type": "markdown",
   "metadata": {},
   "source": [
    "### Task 3:\n",
    "Predict on the test data with the trained network and calculate the accuracy. Iterate through the `test_loader` for this."
   ]
  },
  {
   "cell_type": "code",
   "execution_count": 13,
   "metadata": {},
   "outputs": [
    {
     "data": {
      "text/plain": [
       "40.53"
      ]
     },
     "execution_count": 13,
     "metadata": {},
     "output_type": "execute_result"
    }
   ],
   "source": [
    "correct = 0\n",
    "for X_test, y_test in test_loader:\n",
    "    X_test = X_test.to(device)\n",
    "    y_test = y_test.to(device)\n",
    "    \n",
    "    X_test = torch.flatten(X_test, start_dim=1)\n",
    "    y_val = model(X_test)\n",
    "    predicted = torch.argmax(y_val,1)\n",
    "    correct += (predicted == y_test).sum()\n",
    "\n",
    "100*correct.item()/len(cifar10_test)"
   ]
  },
  {
   "cell_type": "markdown",
   "metadata": {},
   "source": [
    "### Task 4:\n",
    "The accuracy with this basic architecture is not very good. Try to improve the accuarcy by adding a second hidden layer that has more neurons. Train again for 20 epochs and check the accuracy on the test data.\n"
   ]
  },
  {
   "cell_type": "code",
   "execution_count": 14,
   "metadata": {},
   "outputs": [],
   "source": [
    "import torch.nn as nn\n",
    "import torch.nn.functional as F \n",
    "\n",
    "class NeuralNetBigger(nn.Module):\n",
    "\n",
    "    def __init__(self):\n",
    "        super().__init__()\n",
    "        self.fc1 = nn.Linear(32*32*3, 120)\n",
    "        self.fc2 = nn.Linear(120, 84)\n",
    "        self.fc3 = nn.Linear(84, 10)\n",
    "\n",
    "    def forward(self, X):\n",
    "        X = F.relu(self.fc1(X))\n",
    "        X = F.relu(self.fc2(X))\n",
    "        X = self.fc3(X)\n",
    "\n",
    "        return X"
   ]
  },
  {
   "cell_type": "code",
   "execution_count": 15,
   "metadata": {},
   "outputs": [
    {
     "data": {
      "text/plain": [
       "45.73"
      ]
     },
     "execution_count": 15,
     "metadata": {},
     "output_type": "execute_result"
    }
   ],
   "source": [
    "model = NeuralNetBigger()\n",
    "model.to(device)\n",
    "model.train()\n",
    "criterion = nn.CrossEntropyLoss()\n",
    "optimizer = torch.optim.SGD(model.parameters(), lr=0.01)\n",
    "\n",
    "epochs = 20\n",
    "\n",
    "train_losses = []\n",
    "for i in range(epochs):\n",
    "\n",
    "    batch_iteration = 1\n",
    "    for (X_train, y_train) in train_loader:\n",
    "        X_train = X_train.to(device)\n",
    "        y_train = y_train.to(device)\n",
    "        \n",
    "        X = torch.flatten(X_train, start_dim=1)\n",
    "        y_pred = model(X)\n",
    "        loss = criterion(y_pred, y_train)\n",
    "\n",
    "        optimizer.zero_grad()\n",
    "        loss.backward()\n",
    "        optimizer.step()\n",
    "        batch_iteration +=1\n",
    "            \n",
    "    train_losses.append(loss.item())\n",
    "    \n",
    "correct = 0\n",
    "for X_test, y_test in test_loader:\n",
    "    X_test = X_test.to(device)\n",
    "    y_test = y_test.to(device)\n",
    "    \n",
    "    X_test = torch.flatten(X_test, start_dim=1)\n",
    "    y_val = model(X_test)\n",
    "    predicted = torch.argmax(y_val,1)\n",
    "    correct += (predicted == y_test).sum()\n",
    "\n",
    "100*correct.item()/len(cifar10_test)"
   ]
  },
  {
   "cell_type": "markdown",
   "metadata": {},
   "source": [
    "### Task 5: Check for overfitting\n",
    "Increase the number of epochs to 35 and check if the new network is overfitting. For this you need to plot the accuracy plot: Predict after every epoch on the complete train and test data with the current model. Remember these values and plot both curves after the training as shown on the lecture slides. What effect can you observe in relation to epochs and overfitting? "
   ]
  },
  {
   "cell_type": "code",
   "execution_count": 16,
   "metadata": {},
   "outputs": [
    {
     "name": "stdout",
     "output_type": "stream",
     "text": [
      "epoch: 0  loss: 2.0246527194976807\n",
      "epoch: 1  loss: 1.9921261072158813\n",
      "epoch: 2  loss: 1.8088128566741943\n",
      "epoch: 3  loss: 1.6419003009796143\n",
      "epoch: 4  loss: 1.8556441068649292\n",
      "epoch: 5  loss: 1.6836045980453491\n",
      "epoch: 6  loss: 1.6724295616149902\n",
      "epoch: 7  loss: 1.6846251487731934\n",
      "epoch: 8  loss: 1.6595081090927124\n",
      "epoch: 9  loss: 1.6158883571624756\n",
      "epoch: 10  loss: 1.7904934883117676\n",
      "epoch: 11  loss: 1.5246696472167969\n",
      "epoch: 12  loss: 1.5658742189407349\n",
      "epoch: 13  loss: 1.5094910860061646\n",
      "epoch: 14  loss: 1.6419678926467896\n",
      "epoch: 15  loss: 1.4859544038772583\n",
      "epoch: 16  loss: 1.3767950534820557\n",
      "epoch: 17  loss: 1.3932368755340576\n",
      "epoch: 18  loss: 1.4403445720672607\n",
      "epoch: 19  loss: 1.4017289876937866\n",
      "epoch: 20  loss: 1.342348337173462\n",
      "epoch: 21  loss: 1.4812862873077393\n",
      "epoch: 22  loss: 1.5416842699050903\n",
      "epoch: 23  loss: 1.31841242313385\n",
      "epoch: 24  loss: 1.564998745918274\n",
      "epoch: 25  loss: 1.41090989112854\n",
      "epoch: 26  loss: 1.303124189376831\n",
      "epoch: 27  loss: 1.2961876392364502\n",
      "epoch: 28  loss: 1.393008828163147\n",
      "epoch: 29  loss: 1.284110426902771\n",
      "epoch: 30  loss: 1.2703590393066406\n",
      "epoch: 31  loss: 1.5372463464736938\n",
      "epoch: 32  loss: 1.4564170837402344\n",
      "epoch: 33  loss: 1.3051475286483765\n",
      "epoch: 34  loss: 1.3602607250213623\n"
     ]
    }
   ],
   "source": [
    "model = NeuralNetBigger()\n",
    "model.to(device)\n",
    "criterion = nn.CrossEntropyLoss()\n",
    "optimizer = torch.optim.SGD(model.parameters(), lr=0.01)\n",
    "\n",
    "epochs = 35\n",
    "\n",
    "train_losses = []\n",
    "train_accuracy = []\n",
    "test_accuracy  = []\n",
    "\n",
    "for i in range(epochs):\n",
    "    model.train()\n",
    "   \n",
    "    corrects = 0\n",
    "    batch_iteration = 1\n",
    "    for (X_train, y_train) in train_loader:\n",
    "        X_train = X_train.to(device)\n",
    "        y_train = y_train.to(device)\n",
    "        \n",
    "        X = torch.flatten(X_train, start_dim=1)\n",
    "        y_pred = model(X)\n",
    "        loss = criterion(y_pred, y_train)\n",
    "\n",
    "        optimizer.zero_grad()\n",
    "        loss.backward()\n",
    "        optimizer.step()\n",
    "        \n",
    "        batch_iteration +=1\n",
    "    \n",
    "    print( f'epoch: {i}  loss: {loss.item()}')\n",
    "    train_losses.append(loss.item())\n",
    "    \n",
    "    with torch.no_grad():\n",
    "        model.eval()\n",
    "        \n",
    "        corrects = 0\n",
    "        for (X_train, y_train) in train_loader:\n",
    "            X_train = X_train.to(device)\n",
    "            y_train = y_train.to(device)\n",
    "            \n",
    "            X = torch.flatten(X_train, start_dim=1)\n",
    "            y_val = model(X)\n",
    "            \n",
    "            predicted = torch.argmax(y_val.data, 1)\n",
    "            corrects += (predicted == y_train).sum()\n",
    "        \n",
    "        accuracy = corrects.item() / len(cifar10_train)\n",
    "        train_accuracy.append(accuracy)\n",
    "        \n",
    "        \n",
    "        corrects = 0\n",
    "        for (X_test, y_test) in test_loader:\n",
    "            X_test = X_test.to(device)\n",
    "            y_test = y_test.to(device)\n",
    "            \n",
    "            X = torch.flatten(X_test, start_dim=1)\n",
    "            y_val = model(X)\n",
    "\n",
    "            predicted = torch.argmax(y_val.data, 1)\n",
    "            corrects += (predicted == y_test).sum()\n",
    "        \n",
    "        accuracy = corrects.item() / len(cifar10_test)\n",
    "        test_accuracy.append(accuracy)"
   ]
  },
  {
   "cell_type": "code",
   "execution_count": 17,
   "metadata": {},
   "outputs": [
    {
     "data": {
      "text/plain": [
       "<matplotlib.legend.Legend at 0x7fd1ceb73af0>"
      ]
     },
     "execution_count": 17,
     "metadata": {},
     "output_type": "execute_result"
    },
    {
     "data": {
      "image/png": "[encoded data removed]",
      "text/plain": [
       "<Figure size 432x288 with 1 Axes>"
      ]
     },
     "metadata": {
      "needs_background": "light"
     },
     "output_type": "display_data"
    }
   ],
   "source": [
    "plt.plot(train_accuracy, label= \"Training accuracy\")\n",
    "plt.plot(test_accuracy, label= \"Test accuracy\")\n",
    "plt.legend()"
   ]
  }
 ],
 "metadata": {
  "kernelspec": {
   "display_name": "Python 3 (ipykernel)",
   "language": "python",
   "name": "python3"
  },
  "language_info": {
   "codemirror_mode": {
    "name": "ipython",
    "version": 3
   },
   "file_extension": ".py",
   "mimetype": "text/x-python",
   "name": "python",
   "nbconvert_exporter": "python",
   "pygments_lexer": "ipython3",
   "version": "3.8.12"
  }
 },
 "nbformat": 4,
 "nbformat_minor": 4
}
